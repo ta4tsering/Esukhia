{
 "cells": [
  {
   "cell_type": "code",
   "execution_count": 104,
   "metadata": {},
   "outputs": [],
   "source": [
    "import re \n",
    "from pathlib import Path\n",
    "import yaml"
   ]
  },
  {
   "cell_type": "code",
   "execution_count": 105,
   "metadata": {},
   "outputs": [],
   "source": [
    "text_content = Path(f\"./output/D1118.txt\").read_text(encoding=\"utf-8\")"
   ]
  },
  {
   "cell_type": "code",
   "execution_count": 106,
   "metadata": {},
   "outputs": [],
   "source": [
    "def parse_page_ann(page_ann):\n",
    "    page_ann_parts = page_ann.split('-')\n",
    "    vol = page_ann_parts[0]\n",
    "    page_num = page_ann_parts[1]\n",
    "    return (vol, page_num)"
   ]
  },
  {
   "cell_type": "code",
   "execution_count": 107,
   "metadata": {},
   "outputs": [],
   "source": [
    "def get_num(line):\n",
    "    tib_num = re.sub(r\"\\W\", \"\", line)\n",
    "    tib_num = re.sub(r\"(\\d+?)r\", \"\", tib_num)\n",
    "    table = tib_num.maketrans(\"༡༢༣༤༥༦༧༨༩༠\", \"1234567890\", \"<r>\")\n",
    "    eng_num = int(tib_num.translate(table))\n",
    "    return eng_num"
   ]
  },
  {
   "cell_type": "code",
   "execution_count": 108,
   "metadata": {},
   "outputs": [],
   "source": [
    "def get_pages(text_content):\n",
    "    pages = re.split(r\"(<p\\d+\\W\\d+\\>)\", text_content)\n",
    "    pg_text = \"\"\n",
    "    pages_dict = {}\n",
    "    for i, line in enumerate(pages):\n",
    "        if i % 2 == 0:\n",
    "            pg_text += line\n",
    "        elif i % 2 != 0:\n",
    "            num = re.sub(\"\\<\", \"\", line)\n",
    "            num = re.sub(\"\\>\", \"\", num)\n",
    "            num = re.sub(\"p\", \"\", num)\n",
    "            pages_dict[num] = pg_text\n",
    "            pg_text = \"\"\n",
    "    return pages_dict"
   ]
  },
  {
   "cell_type": "code",
   "execution_count": 109,
   "metadata": {},
   "outputs": [],
   "source": [
    "def get_page_refs(page_content):\n",
    "    refs = re.findall(r\"<r.+?>\", page_content)\n",
    "    if refs:\n",
    "        if len(refs) > 2:\n",
    "            refs[0] = get_num(refs[0])\n",
    "            refs[-1] = get_num(refs[-1])\n",
    "            return (refs[0], refs[-1])\n",
    "        else:\n",
    "            refs[0] = get_num(refs[0])\n",
    "            return (refs[0], '')\n",
    "    else:\n",
    "        return ('', '')\n",
    "    "
   ]
  },
  {
   "cell_type": "code",
   "execution_count": 112,
   "metadata": {},
   "outputs": [
    {
     "data": {
      "text/plain": [
       "93"
      ]
     },
     "execution_count": 112,
     "metadata": {},
     "output_type": "execute_result"
    }
   ],
   "source": [
    "page_dict = get_pages(text_content)\n",
    "result = []\n",
    "cur_info = {}\n",
    "for page_ann, page_content in page_dict.items():\n",
    "    cur_page_info = {}\n",
    "    vol, page_num = parse_page_ann(page_ann)\n",
    "    start, end = get_page_refs(page_content)\n",
    "    cur_info= {\n",
    "                'start': start,\n",
    "                'end': end,\n",
    "                'page': page_num,\n",
    "                'vol': vol\n",
    "            }\n",
    "    result.append(cur_info)\n",
    "final = yaml.safe_dump(result, sort_keys = False)\n",
    "Path(f\"./final/output.yaml\").write_text(final, encoding=\"utf-8\")"
   ]
  },
  {
   "cell_type": "code",
   "execution_count": 93,
   "metadata": {},
   "outputs": [
    {
     "data": {
      "text/plain": [
       "[[(180, '', '187', '1')], [(1, 2, '188', '1')]]"
      ]
     },
     "execution_count": 93,
     "metadata": {},
     "output_type": "execute_result"
    }
   ],
   "source": []
  },
  {
   "cell_type": "code",
   "execution_count": 58,
   "metadata": {},
   "outputs": [
    {
     "data": {
      "text/plain": [
       "['<r༡>', '<r༨༡>', '<r༢>']"
      ]
     },
     "execution_count": 58,
     "metadata": {},
     "output_type": "execute_result"
    }
   ],
   "source": [
    "refs"
   ]
  },
  {
   "cell_type": "code",
   "execution_count": null,
   "metadata": {},
   "outputs": [],
   "source": []
  }
 ],
 "metadata": {
  "kernelspec": {
   "display_name": "Python 3",
   "language": "python",
   "name": "python3"
  },
  "language_info": {
   "codemirror_mode": {
    "name": "ipython",
    "version": 3
   },
   "file_extension": ".py",
   "mimetype": "text/x-python",
   "name": "python",
   "nbconvert_exporter": "python",
   "pygments_lexer": "ipython3",
   "version": "3.8.5"
  }
 },
 "nbformat": 4,
 "nbformat_minor": 4
}
