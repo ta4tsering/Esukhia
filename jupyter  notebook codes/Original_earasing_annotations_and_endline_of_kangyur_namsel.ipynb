{
 "cells": [
  {
   "cell_type": "code",
   "execution_count": 1,
   "metadata": {},
   "outputs": [],
   "source": [
    "from pathlib import Path\n",
    "import re"
   ]
  },
  {
   "cell_type": "code",
   "execution_count": 2,
   "metadata": {},
   "outputs": [],
   "source": [
    "def erase_unwanted(single_poti, poti_num):\n",
    "    \n",
    "    result = ''\n",
    "    new_poti_content = re.sub(r'\\[\\w\\d\\w+(.+)\\]', '', single_poti)\n",
    "    new_poti_content = re.sub(r'\\n', '', new_poti_content)\n",
    "\n",
    "    write_updated_poti(new_poti_content, poti_num)\n",
    "    return result"
   ]
  },
  {
   "cell_type": "code",
   "execution_count": 3,
   "metadata": {},
   "outputs": [],
   "source": [
    "def write_updated_poti(updated_poti_content, poti_num):\n",
    "    \n",
    "    Path(f'./kangyur_namsel_new_text/v{poti_num:03}.txt').write_text(updated_poti_content, encoding = 'utf-8')\n",
    "    print('Update done ')"
   ]
  },
  {
   "cell_type": "code",
   "execution_count": 4,
   "metadata": {},
   "outputs": [],
   "source": [
    "def get_poti_content(poti_path,poti_num):\n",
    "    all_potis = poti_path.read_text(encoding = 'utf-8')\n",
    "    updated_poti = erase_unwanted(all_potis, poti_num)\n",
    "        \n",
    "    return updated_poti"
   ]
  },
  {
   "cell_type": "code",
   "execution_count": 7,
   "metadata": {},
   "outputs": [],
   "source": [
    "def get_namsel():\n",
    "    namsel_potis = list(Path(f'./kangyur_namsel_text').iterdir())\n",
    "    namsel_potis.sort()\n",
    "    for poti_num, poti_path in enumerate (namsel_potis, 1):\n",
    "        namsel_poti_content = get_poti_content(poti_path,poti_num)"
   ]
  },
  {
   "cell_type": "code",
   "execution_count": 8,
   "metadata": {},
   "outputs": [
    {
     "name": "stdout",
     "output_type": "stream",
     "text": [
      "Processing .....\n",
      "Update done \n",
      "Update done \n",
      "Update done \n",
      "Update done \n",
      "Update done \n",
      "Update done \n",
      "Update done \n",
      "Update done \n",
      "Update done \n",
      "Update done \n",
      "Update done \n",
      "Update done \n",
      "Update done \n",
      "Update done \n",
      "Update done \n",
      "Update done \n",
      "Update done \n",
      "Update done \n",
      "Update done \n",
      "Update done \n",
      "Update done \n",
      "Update done \n",
      "Update done \n",
      "Update done \n",
      "Update done \n",
      "Update done \n",
      "Update done \n",
      "Update done \n",
      "Update done \n",
      "Update done \n",
      "Update done \n",
      "Update done \n",
      "Update done \n",
      "Update done \n",
      "Update done \n",
      "Update done \n",
      "Update done \n",
      "Update done \n",
      "Update done \n",
      "Update done \n",
      "Update done \n",
      "Update done \n",
      "Update done \n",
      "Update done \n",
      "Update done \n",
      "Update done \n",
      "Update done \n",
      "Update done \n",
      "Update done \n",
      "Update done \n",
      "Update done \n",
      "Update done \n",
      "Update done \n",
      "Update done \n",
      "Update done \n",
      "Update done \n",
      "Update done \n",
      "Update done \n",
      "Update done \n",
      "Update done \n",
      "Update done \n",
      "Update done \n",
      "Update done \n",
      "Update done \n",
      "Update done \n",
      "Update done \n",
      "Update done \n",
      "Update done \n",
      "Update done \n",
      "Update done \n",
      "Update done \n",
      "Update done \n",
      "Update done \n",
      "Update done \n",
      "Update done \n",
      "Update done \n",
      "Update done \n",
      "Update done \n",
      "Update done \n",
      "Update done \n",
      "Update done \n",
      "Update done \n",
      "Update done \n",
      "Update done \n",
      "Update done \n",
      "Update done \n",
      "Update done \n",
      "Update done \n",
      "Update done \n",
      "Update done \n",
      "Update done \n",
      "Update done \n",
      "Update done \n",
      "Update done \n",
      "Update done \n",
      "Update done \n",
      "Update done \n",
      "Update done \n",
      "Update done \n",
      "Update done \n",
      "Update done \n",
      "Update done \n",
      "Update done \n",
      "Update done \n",
      "Update done \n",
      "Update done \n",
      "Update done \n",
      "Update done \n"
     ]
    }
   ],
   "source": [
    "print(\"Processing .....\")\n",
    "get_namsel()"
   ]
  },
  {
   "cell_type": "code",
   "execution_count": null,
   "metadata": {},
   "outputs": [],
   "source": []
  }
 ],
 "metadata": {
  "kernelspec": {
   "display_name": "Python 3",
   "language": "python",
   "name": "python3"
  },
  "language_info": {
   "codemirror_mode": {
    "name": "ipython",
    "version": 3
   },
   "file_extension": ".py",
   "mimetype": "text/x-python",
   "name": "python",
   "nbconvert_exporter": "python",
   "pygments_lexer": "ipython3",
   "version": "3.8.5"
  }
 },
 "nbformat": 4,
 "nbformat_minor": 4
}
