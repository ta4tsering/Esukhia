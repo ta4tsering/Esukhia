{
 "cells": [
  {
   "cell_type": "code",
   "execution_count": 1,
   "metadata": {},
   "outputs": [],
   "source": [
    "from pathlib import Path\n",
    "import re"
   ]
  },
  {
   "cell_type": "code",
   "execution_count": 46,
   "metadata": {},
   "outputs": [],
   "source": [
    "def update_pecha(pecha):\n",
    "    Path(f'../../pecha.txt').write_text(pecha, encoding = 'utf-8')\n",
    "    print('pecha work complete')"
   ]
  },
  {
   "cell_type": "code",
   "execution_count": 47,
   "metadata": {},
   "outputs": [],
   "source": [
    "def parse_pecha(pages):\n",
    "    result = \"\"\n",
    "    for page in pages:\n",
    "        if re.search(f'I1PD(.+)\\.\\w',page):\n",
    "            pg_id = re.search('I1PD(.+\\.\\w+)', page).group(1)\n",
    "            pg_num = int(pg_id[:-4])\n",
    "            new_pg_content = re.sub('I1PD.+', f'[I1PD{pg_num}]', page) \n",
    "        result += new_pg_content + '\\n\\n'\n",
    "    return result\n",
    "    "
   ]
  },
  {
   "cell_type": "code",
   "execution_count": 48,
   "metadata": {},
   "outputs": [],
   "source": [
    "def get_pages(poti_content):\n",
    "    result = []\n",
    "    pg_text = \"\"\n",
    "    pages = re.split(f\"(I1PD\\d+\\.\\w+)\", poti_content)\n",
    "    for i, page in enumerate(pages[1:]):\n",
    "        if i % 2 == 0:\n",
    "            pg_text += page\n",
    "        else:\n",
    "            pg_text += page\n",
    "            result.append(pg_text)\n",
    "            pg_text = \"\"\n",
    "            \n",
    "    return result"
   ]
  },
  {
   "cell_type": "code",
   "execution_count": 49,
   "metadata": {},
   "outputs": [],
   "source": [
    "def get_pecha():\n",
    "    pecha = Path(f'../../ocr_output.txt').read_text(encoding = 'utf-8')\n",
    "    pages = get_pages(pecha)\n",
    "    print('pecha processing ...')\n",
    "    new_pecha = parse_pecha(pages)\n",
    "    update_pecha(new_pecha)"
   ]
  },
  {
   "cell_type": "code",
   "execution_count": 50,
   "metadata": {},
   "outputs": [
    {
     "name": "stdout",
     "output_type": "stream",
     "text": [
      "pecha processing ...\n",
      "pecha work complete\n"
     ]
    }
   ],
   "source": [
    "get_pecha()"
   ]
  },
  {
   "cell_type": "code",
   "execution_count": null,
   "metadata": {},
   "outputs": [],
   "source": []
  }
 ],
 "metadata": {
  "kernelspec": {
   "display_name": "Python 3",
   "language": "python",
   "name": "python3"
  },
  "language_info": {
   "codemirror_mode": {
    "name": "ipython",
    "version": 3
   },
   "file_extension": ".py",
   "mimetype": "text/x-python",
   "name": "python",
   "nbconvert_exporter": "python",
   "pygments_lexer": "ipython3",
   "version": "3.8.5"
  }
 },
 "nbformat": 4,
 "nbformat_minor": 4
}
