{
 "cells": [
  {
   "cell_type": "code",
   "execution_count": 1,
   "metadata": {},
   "outputs": [],
   "source": [
    "from pathlib import Path \n",
    "import re"
   ]
  },
  {
   "cell_type": "code",
   "execution_count": 2,
   "metadata": {},
   "outputs": [],
   "source": [
    "def poti_update(result):\n",
    "    Path(f'../../v112.txt').write_text(result, encoding='utf-8')\n",
    "    print(f'v112 update complete ')"
   ]
  },
  {
   "cell_type": "code",
   "execution_count": 3,
   "metadata": {},
   "outputs": [],
   "source": [
    "def get_pages(vol_text):\n",
    "    result = []\n",
    "    pg_text = \"\"\n",
    "    pages = re.split(r'(\\[I1PD.+\\])', vol_text)\n",
    "    for i, page in enumerate(pages[1:]):\n",
    "        if i % 2 == 0:\n",
    "            pg_text += page\n",
    "        else:\n",
    "            pg_text += page\n",
    "            result.append(pg_text)\n",
    "            pg_text = \"\"\n",
    "    return result"
   ]
  },
  {
   "cell_type": "code",
   "execution_count": 14,
   "metadata": {},
   "outputs": [],
   "source": [
    "def poti_parse(poti_content):\n",
    "    result = \"\"\n",
    "    pages = get_pages(poti_content)\n",
    "    for pg_num, page in enumerate(pages, 1):\n",
    "        if re.search('\\[I1PD(.+)\\]', page):\n",
    "            pg_id = re.search('\\[I1PD(.+)\\]', page).group(1)\n",
    "            pg_num = int(pg_id[-4:])\n",
    "            if pg_num%2 == 0:\n",
    "                num = int(pg_num/2)\n",
    "                new_pg_content = re.sub('I1PD.+', f'{num}b] ', page) \n",
    "            elif pg_num%2 != 0:\n",
    "                num = int((pg_num/2)+0.5)\n",
    "                new_pg_content = re.sub('I1PD.+', f'{num}a] ', page) \n",
    "        result += new_pg_content + '\\n\\n'\n",
    "    return result"
   ]
  },
  {
   "cell_type": "code",
   "execution_count": 15,
   "metadata": {},
   "outputs": [],
   "source": [
    "def get_poti_content(poti_path):\n",
    "    poti_content = poti_path.read_text(encoding='utf-8')\n",
    "    new_poti_content = poti_parse(poti_content)\n",
    "    poti_update(new_poti_content)\n",
    "    "
   ]
  },
  {
   "cell_type": "code",
   "execution_count": 18,
   "metadata": {},
   "outputs": [],
   "source": [
    "def get_potis():\n",
    "    all_potis = Path(f'../../pecha.txt')\n",
    "    print(f\"v112 processing.....\")\n",
    "    get_poti_content(all_potis)\n",
    "#     all_potis.sort()\n",
    "    \n",
    "#     for poti_num, poti_path in enumerate(all_potis,1):\n",
    "#         poti_id = poti_path.name\n",
    "        "
   ]
  },
  {
   "cell_type": "code",
   "execution_count": 19,
   "metadata": {},
   "outputs": [
    {
     "name": "stdout",
     "output_type": "stream",
     "text": [
      "v112 processing.....\n",
      "v112 update complete \n"
     ]
    }
   ],
   "source": [
    "get_potis()"
   ]
  },
  {
   "cell_type": "code",
   "execution_count": null,
   "metadata": {},
   "outputs": [],
   "source": []
  }
 ],
 "metadata": {
  "kernelspec": {
   "display_name": "Python 3",
   "language": "python",
   "name": "python3"
  },
  "language_info": {
   "codemirror_mode": {
    "name": "ipython",
    "version": 3
   },
   "file_extension": ".py",
   "mimetype": "text/x-python",
   "name": "python",
   "nbconvert_exporter": "python",
   "pygments_lexer": "ipython3",
   "version": "3.8.5"
  }
 },
 "nbformat": 4,
 "nbformat_minor": 4
}
