{
 "cells": [
  {
   "cell_type": "code",
   "execution_count": null,
   "metadata": {},
   "outputs": [],
   "source": [
    "from pathlib import Path\n",
    "from antx import transfer\n",
    "import re"
   ]
  },
  {
   "cell_type": "code",
   "execution_count": 2,
   "metadata": {},
   "outputs": [],
   "source": [
    "def annotation_transfer(source, target):\n",
    "    annotations = [['author', r'(\\[[0-9]+[a-z]{1}\\])'], ['author_end', r'(\\n)']]\n",
    "    result = transfer(source, annotations, target, output= \"txt\", optimized=True)\n",
    "    return result"
   ]
  },
  {
   "cell_type": "code",
   "execution_count": 3,
   "metadata": {},
   "outputs": [],
   "source": [
    "def remove_annotations(target):\n",
    "    result = ''\n",
    "    result = re.sub(r'\\w\\d\\w+(.+)', '', target)\n",
    "    result = re.sub(r'\\n', '', result)\n",
    "\n",
    "    return result"
   ]
  },
  {
   "cell_type": "code",
   "execution_count": 4,
   "metadata": {},
   "outputs": [],
   "source": [
    "def get_content(poti_path):\n",
    "    return poti_path.read_text(encoding = 'utf-8')"
   ]
  },
  {
   "cell_type": "code",
   "execution_count": null,
   "metadata": {},
   "outputs": [
    {
     "name": "stdout",
     "output_type": "stream",
     "text": [
      "v043 processing\n",
      "Annotation transfer started...\n",
      "Mapping annotations to tofu-IDs\n",
      "[INFO] Computing diffs ...\n",
      "[INFO] Diff computed!\n",
      "Transfering annotations...\n",
      "v043 completed..\n",
      "v044 processing\n",
      "Annotation transfer started...\n",
      "Mapping annotations to tofu-IDs\n",
      "[INFO] Computing diffs ...\n",
      "[INFO] Diff computed!\n",
      "Transfering annotations...\n",
      "v044 completed..\n",
      "v045 processing\n",
      "Annotation transfer started...\n",
      "Mapping annotations to tofu-IDs\n",
      "[INFO] Computing diffs ...\n",
      "[INFO] Diff computed!\n",
      "Transfering annotations...\n",
      "v045 completed..\n",
      "v046 processing\n",
      "Annotation transfer started...\n",
      "Mapping annotations to tofu-IDs\n",
      "[INFO] Computing diffs ...\n",
      "[INFO] Diff computed!\n",
      "Transfering annotations...\n",
      "v046 completed..\n",
      "v047 processing\n",
      "Annotation transfer started...\n",
      "Mapping annotations to tofu-IDs\n",
      "[INFO] Computing diffs ...\n",
      "[INFO] Diff computed!\n",
      "Transfering annotations...\n",
      "v047 completed..\n",
      "v048 processing\n",
      "Annotation transfer started...\n",
      "Mapping annotations to tofu-IDs\n",
      "[INFO] Computing diffs ...\n"
     ]
    }
   ],
   "source": [
    "sources = list(Path(f'./clean_tengyur_google_text').iterdir())\n",
    "sources.sort()\n",
    "targets = list(Path(f'./numbered_tengyur_namsel').iterdir())\n",
    "targets.sort()\n",
    "\n",
    "for source_vol, target_vol in zip(sources[14:],targets[14:]):\n",
    "    print(f'{target_vol.stem} processing')\n",
    "    source = get_content(source_vol)\n",
    "    target = get_content(target_vol)\n",
    "    target = remove_annotations(target)\n",
    "    updated_vol = annotation_transfer(source, target)\n",
    "    Path(f'./tengyur_namsel_transfered/{source_vol.stem}.txt').write_text(updated_vol, encoding='utf-8')\n",
    "    print(f'{source_vol.stem} completed..')"
   ]
  },
  {
   "cell_type": "code",
   "execution_count": null,
   "metadata": {},
   "outputs": [],
   "source": []
  }
 ],
 "metadata": {
  "kernelspec": {
   "display_name": "Python 3",
   "language": "python",
   "name": "python3"
  },
  "language_info": {
   "codemirror_mode": {
    "name": "ipython",
    "version": 3
   },
   "file_extension": ".py",
   "mimetype": "text/x-python",
   "name": "python",
   "nbconvert_exporter": "python",
   "pygments_lexer": "ipython3",
   "version": "3.8.5"
  }
 },
 "nbformat": 4,
 "nbformat_minor": 4
}
