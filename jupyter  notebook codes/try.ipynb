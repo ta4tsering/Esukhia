{
 "cells": [
  {
   "cell_type": "code",
   "execution_count": 1,
   "metadata": {},
   "outputs": [],
   "source": [
    "from pathlib import Path\n",
    "import re"
   ]
  },
  {
   "cell_type": "code",
   "execution_count": null,
   "metadata": {},
   "outputs": [],
   "source": [
    "def poti_update(poti_new_content,poti_num):\n",
    "    Path(f'../reconstructed_unavailable_tengyur_namsel_pages/v{poti_num:03}').write_text(poti_new_content, encoding = 'utf-8')\n",
    "    print(f'v{poti_num} update complete')"
   ]
  },
  {
   "cell_type": "code",
   "execution_count": null,
   "metadata": {},
   "outputs": [],
   "source": [
    "def poti_parse(poti_content, poti_num):\n",
    "    result = \"\"\n",
    "    pages = re.split(r'\\[\\d+\\w\\]', poti_content)\n",
    "    for page_num, page in enumerate(pages[-2:], 1):\n",
    "        temp[] = re.search(r'\\[\\d+\\w\\]', page)\n",
    "    \n",
    "        \n",
    "            \n",
    "                  \n",
    "                \n",
    "                \n",
    "    "
   ]
  },
  {
   "cell_type": "code",
   "execution_count": null,
   "metadata": {},
   "outputs": [],
   "source": [
    "def get_poti_content(poti_path, poti_num):\n",
    "    poti_content = poti_path.read_text(encoding='utf-8')\n",
    "    poti_new_content = poti_parse(poti_content, poti_num)\n",
    "    poti_update(poti_new_content,poti_num)"
   ]
  },
  {
   "cell_type": "code",
   "execution_count": null,
   "metadata": {},
   "outputs": [],
   "source": [
    "def get_potis():\n",
    "    all_potis = list(Path(f'../tengyur_namsel_text').iterdir())\n",
    "    all_potis.sort()\n",
    "    \n",
    "    for poti_num, poti_path in enumerate(all_potis,1):\n",
    "        poti_id = poti_path.name\n",
    "        print(f'v{poti_id:03} processing ...')\n",
    "        get_poti_content(poti_path, poti_num)\n",
    "        "
   ]
  },
  {
   "cell_type": "code",
   "execution_count": null,
   "metadata": {},
   "outputs": [],
   "source": [
    "get_potis()"
   ]
  }
 ],
 "metadata": {
  "kernelspec": {
   "display_name": "Python 3",
   "language": "python",
   "name": "python3"
  },
  "language_info": {
   "codemirror_mode": {
    "name": "ipython",
    "version": 3
   },
   "file_extension": ".py",
   "mimetype": "text/x-python",
   "name": "python",
   "nbconvert_exporter": "python",
   "pygments_lexer": "ipython3",
   "version": "3.8.5"
  }
 },
 "nbformat": 4,
 "nbformat_minor": 4
}
