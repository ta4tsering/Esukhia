{
 "cells": [
  {
   "cell_type": "code",
   "execution_count": 32,
   "metadata": {},
   "outputs": [],
   "source": [
    "from pathlib import Path\n",
    "from bs4 import BeautifulSoup\n",
    "import re"
   ]
  },
  {
   "cell_type": "code",
   "execution_count": null,
   "metadata": {},
   "outputs": [],
   "source": []
  },
  {
   "cell_type": "code",
   "execution_count": null,
   "metadata": {},
   "outputs": [],
   "source": [
    "def get_durchen_and_page(text):\n",
    "    patterns = [\n",
    "  \n",
    "        # normalize and tag page numbers '73ཝ་768' --> ' <p73-768> '\n",
    "        [\"([0-9]+?)[ཝ—-]་?([0-9]+)\", \" <p\\g<1>-\\g<2>> \"],\n",
    "        # tag page references '༡༤༥ ①' --> <p༡༤༥> ①'\n",
    "        [\" ?([༠-༩]+?)(\\s\\(?[①-⓪༠-༩ ཿ༅]\\)?)\", \" \\n<r\\g<1>>\\g<2>\"]  # basic page ref\n",
    "    ]\n",
    "    for p in patterns:\n",
    "        text = re.sub(p[0], p[1], text)\n",
    "    \n",
    "    # text = translate_ref(text)\n",
    "\n",
    "    return text"
   ]
  },
  {
   "cell_type": "code",
   "execution_count": null,
   "metadata": {},
   "outputs": [],
   "source": [
    "def add_sn(content):\n",
    "    marker = \"<r\"\n",
    "    list = re.split(marker, content)\n",
    "    new = \"\"\n",
    "\n",
    "    for i, e in enumerate(list, 2):\n",
    "        new += f\"{i}-{marker}{e}\"\n",
    "\n",
    "    return new"
   ]
  },
  {
   "cell_type": "code",
   "execution_count": null,
   "metadata": {},
   "outputs": [],
   "source": [
    "#def get_durchen_and_page(footnote_content,filename):\n",
    "def parse_poti(namsel_content, page_re, durchen_re):\n",
    "    soup = BeautifulSoup(namsel_content,'html')\n",
    "    \n",
    "    page = soup.find_all(page_re)\n",
    "    result = ''\n",
    "    for page in pages:\n",
    "        \n",
    "        pg_content = page.text\n",
    "        result += f'[{pg_id}]\\n{pg_content}\\n\\n'\n",
    "    return result"
   ]
  },
  {
   "cell_type": "code",
   "execution_count": null,
   "metadata": {},
   "outputs": [],
   "source": [
    "durchen_re = r[\" ?([༠-༩]+?)(\\s\\(?[①-⓪༠-༩ ཿ༅]\\)?)\", \" \\n<r\\g<1>>\\g<2>\"]\n",
    "page_re = r[\"([0-9]+?)[ཝ—-]་?([0-9]+)\", \" <p\\g<1>-\\g<2>> \"]\n",
    "\n",
    "namsel_path = Path(\"./input/67N-footnotes.txt\")\n",
    "namsel_content = namsel_path.read_text(encoding=\"utf-8\") \n",
    "druchen_and_page = get_durchen_and_page(namsel_footnote_content)\n",
    "with_sn = add_sn(durchen_and_page)\n",
    "new_file = Path(\"./output/ouput67.txt\")\n",
    "new_file.write_text(with_sn, encoding=\"utf-8\")# durchen = \"14-<r༩༨> ༡ ༧༩༦༧ །མ་ན་།༩། ། ༣ ་[ཏུ། ཀན་༡ དང ་རྒྱུ ད ་།ངན བ བ བ བ ན 1:|: ༡༩༥ :  <p67-493> \"\n",
    "# durchen = \"\\n14-<r༩༨>\""
   ]
  },
  {
   "cell_type": "code",
   "execution_count": 22,
   "metadata": {},
   "outputs": [
    {
     "name": "stdout",
     "output_type": "stream",
     "text": [
      "yes\n",
      "<p67-493>\n"
     ]
    }
   ],
   "source": [
    "durchen = \"\\n14-<r༩༨> ༡ ༧༩༦༧ །མ་ན་།༩། ། ༣ ་[ཏུ། ཀན་༡ དང ་རྒྱུ ད ་།ངན བ བ བ བ ན 1:|: ༡༩༥ :  <p67-493> \"\n",
    "if re.search(r\"\\<p\\d+\\W\\d+\\>\", durchen):\n",
    "    print(\"yes\")\n",
    "    tib = re.search(r\"\\<p\\d+\\W\\d+\\>\", durchen)\n",
    "    print(tib.group(0))\n",
    "# tib = re.match(r\"<p\\d+\\W\\d+>\", durchen)\n",
    "# tib_num = re.match(r\"n<p\\d+\\W\\d+>\", tib.group(1))\n",
    "# print(tib.group(0))"
   ]
  },
  {
   "cell_type": "code",
   "execution_count": 13,
   "metadata": {},
   "outputs": [
    {
     "ename": "SyntaxError",
     "evalue": "invalid character in identifier (<ipython-input-13-e3ee83331d59>, line 1)",
     "output_type": "error",
     "traceback": [
      "\u001b[0;36m  File \u001b[0;32m\"<ipython-input-13-e3ee83331d59>\"\u001b[0;36m, line \u001b[0;32m1\u001b[0m\n\u001b[0;31m    num = ༤༧༠\u001b[0m\n\u001b[0m            ^\u001b[0m\n\u001b[0;31mSyntaxError\u001b[0m\u001b[0;31m:\u001b[0m invalid character in identifier\n"
     ]
    }
   ],
   "source": [
    "num = ༤༧༠\n",
    "print(unicode.num)"
   ]
  },
  {
   "cell_type": "code",
   "execution_count": 5,
   "metadata": {},
   "outputs": [
    {
     "name": "stdout",
     "output_type": "stream",
     "text": [
      "470\n"
     ]
    }
   ],
   "source": [
    "tib_num = \"༤༧༠\"\n",
    "table = tib_num.maketrans(\"༡༢༣༤༥༦༧༨༩༠\", \"1234567890\", \"<r>\")\n",
    "eng_num = int(tib_num.translate(table))\n",
    "print(eng_num)"
   ]
  },
  {
   "cell_type": "code",
   "execution_count": 6,
   "metadata": {},
   "outputs": [
    {
     "name": "stdout",
     "output_type": "stream",
     "text": [
      "['\\n14-<r༩༨> ༡ ༧༩༦༧ །མ་ན་།༩། ། ༣ ་[ཏུ། ཀན་༡ དང ་རྒྱུ ད ་།ངན བ བ བ བ ན 1:|: ༡༩༥ :  ', ' ']\n"
     ]
    }
   ],
   "source": [
    "durchen = \"\\n14-<r༩༨> ༡ ༧༩༦༧ །མ་ན་།༩། ། ༣ ་[ཏུ། ཀན་༡ དང ་རྒྱུ ད ་།ངན བ བ བ བ ན 1:|: ༡༩༥ :  <p67-493> \"\n",
    "tib = re.split(r\"\\<p\\d+\\W\\d+\\>\", durchen)\n",
    "print(tib)"
   ]
  },
  {
   "cell_type": "code",
   "execution_count": 88,
   "metadata": {},
   "outputs": [
    {
     "name": "stdout",
     "output_type": "stream",
     "text": [
      "['\\n14-<r༩༨> ༡ ༧༩༦༧ །མ་ན་།༩། ། ༣ ་[ཏུ། ཀན་༡ དང ་རྒྱུ ད ་།ངན བ བ བ བ ན 1:|: ༡༩༥ :  <p67-493> ']\n"
     ]
    }
   ],
   "source": [
    "durchen = \"\\n14-<r༩༨> ༡ ༧༩༦༧ །མ་ན་།༩། ། ༣ ་[ཏུ། ཀན་༡ དང ་རྒྱུ ད ་།ངན བ བ བ བ ན 1:|: ༡༩༥ :  <p67-493> \"\n",
    "tib = re.split(r\"\\n\\d\\W<r?([༠-༩]+?)>\", durchen)\n",
    "print(tib)"
   ]
  },
  {
   "cell_type": "code",
   "execution_count": null,
   "metadata": {},
   "outputs": [],
   "source": [
    "line = \"4-<r༤༧༠> ༧ «པེ་»«སྣར་”དྲུག Q «པེ་»«སྣར་»གིས། ཚེ«སྣར་»གིའོ། ༤«པེ་»–ཞེ་ན། ཚེ«པེ་འཇུག་«པེ་»«སྣར་བརྟེན། @«སྣར་བྱའོ། – ཚེ«པེ་»«སྣར་》གཞི། ༼ \"\n",
    "if re.match(r\"\\n\\d\\W<r?([༠-༩]+?)>\",line):\n",
    "    print(\"yes\")\n",
    "else:\n",
    "    print(\"no\")"
   ]
  },
  {
   "cell_type": "code",
   "execution_count": 72,
   "metadata": {},
   "outputs": [
    {
     "ename": "AttributeError",
     "evalue": "module 're' has no attribute 'tib_num'",
     "output_type": "error",
     "traceback": [
      "\u001b[0;31m---------------------------------------------------------------------------\u001b[0m",
      "\u001b[0;31mAttributeError\u001b[0m                            Traceback (most recent call last)",
      "\u001b[0;32m<ipython-input-72-37f526ae9781>\u001b[0m in \u001b[0;36m<module>\u001b[0;34m\u001b[0m\n\u001b[1;32m      1\u001b[0m \u001b[0mline\u001b[0m \u001b[0;34m=\u001b[0m \u001b[0;34m\"4-<r༤༧༠> ༧ «པེ་»«སྣར་”དྲུག Q «པེ་»«སྣར་»གིས། ཚེ«སྣར་»གིའོ། ༤«པེ་»–ཞེ་ན། ཚེ«པེ་འཇུག་«པེ་»«སྣར་བརྟེན། @«སྣར་བྱའོ། – ཚེ«པེ་»«སྣར་》གཞི། ༼ \"\u001b[0m\u001b[0;34m\u001b[0m\u001b[0;34m\u001b[0m\u001b[0m\n\u001b[1;32m      2\u001b[0m \u001b[0mtib_num\u001b[0m \u001b[0;34m=\u001b[0m \u001b[0mre\u001b[0m\u001b[0;34m.\u001b[0m\u001b[0mmatch\u001b[0m\u001b[0;34m(\u001b[0m\u001b[0;34mr\"\\n\\d\\W<r?([༠-༩]+?)>\"\u001b[0m\u001b[0;34m,\u001b[0m \u001b[0mdurchen\u001b[0m\u001b[0;34m)\u001b[0m\u001b[0;34m\u001b[0m\u001b[0;34m\u001b[0m\u001b[0m\n\u001b[0;32m----> 3\u001b[0;31m \u001b[0mprint\u001b[0m\u001b[0;34m(\u001b[0m\u001b[0mre\u001b[0m\u001b[0;34m.\u001b[0m\u001b[0mtib_num\u001b[0m\u001b[0;34m)\u001b[0m\u001b[0;34m\u001b[0m\u001b[0;34m\u001b[0m\u001b[0m\n\u001b[0m",
      "\u001b[0;31mAttributeError\u001b[0m: module 're' has no attribute 'tib_num'"
     ]
    }
   ],
   "source": [
    "line = \"4-<r༤༧༠> ༧ «པེ་»«སྣར་”དྲུག Q «པེ་»«སྣར་»གིས། ཚེ«སྣར་»གིའོ། ༤«པེ་»–ཞེ་ན། ཚེ«པེ་འཇུག་«པེ་»«སྣར་བརྟེན། @«སྣར་བྱའོ། – ཚེ«པེ་»«སྣར་》གཞི། ༼ \"\n",
    "tib_num = re.match(r\"\\n\\d\\W<r?([༠-༩]+?)>\", durchen)\n",
    "print(re.tib_num)"
   ]
  },
  {
   "cell_type": "code",
   "execution_count": 51,
   "metadata": {},
   "outputs": [],
   "source": []
  },
  {
   "cell_type": "code",
   "execution_count": 52,
   "metadata": {},
   "outputs": [
    {
     "name": "stdout",
     "output_type": "stream",
     "text": [
      "yes\n",
      "\n",
      "3-<r༤༩>\n",
      "\n",
      "r\n"
     ]
    },
    {
     "ename": "ValueError",
     "evalue": "invalid literal for int() with base 10: '\\n'",
     "output_type": "error",
     "traceback": [
      "\u001b[0;31m---------------------------------------------------------------------------\u001b[0m",
      "\u001b[0;31mValueError\u001b[0m                                Traceback (most recent call last)",
      "\u001b[0;32m<ipython-input-52-0b597e66ea82>\u001b[0m in \u001b[0;36m<module>\u001b[0;34m\u001b[0m\n\u001b[1;32m      9\u001b[0m             \u001b[0mline_text\u001b[0m \u001b[0;34m+=\u001b[0m \u001b[0;34m(\u001b[0m\u001b[0mnum\u001b[0m\u001b[0;34m.\u001b[0m\u001b[0mgroup\u001b[0m\u001b[0;34m(\u001b[0m\u001b[0;36m0\u001b[0m\u001b[0;34m)\u001b[0m\u001b[0;34m)\u001b[0m\u001b[0;34m\u001b[0m\u001b[0;34m\u001b[0m\u001b[0m\n\u001b[1;32m     10\u001b[0m             \u001b[0mprint\u001b[0m\u001b[0;34m(\u001b[0m\u001b[0mline_text\u001b[0m\u001b[0;34m)\u001b[0m\u001b[0;34m\u001b[0m\u001b[0;34m\u001b[0m\u001b[0m\n\u001b[0;32m---> 11\u001b[0;31m             \u001b[0mline_text\u001b[0m \u001b[0;34m=\u001b[0m \u001b[0mget_num\u001b[0m\u001b[0;34m(\u001b[0m\u001b[0mline_text\u001b[0m\u001b[0;34m)\u001b[0m\u001b[0;34m\u001b[0m\u001b[0;34m\u001b[0m\u001b[0m\n\u001b[0m\u001b[1;32m     12\u001b[0m             \u001b[0mfinal_output\u001b[0m\u001b[0;34m.\u001b[0m\u001b[0mappend\u001b[0m\u001b[0;34m(\u001b[0m\u001b[0mline_text\u001b[0m\u001b[0;34m)\u001b[0m\u001b[0;34m\u001b[0m\u001b[0;34m\u001b[0m\u001b[0m\n\u001b[1;32m     13\u001b[0m             \u001b[0mline_text\u001b[0m \u001b[0;34m=\u001b[0m \u001b[0;34m\"\"\u001b[0m\u001b[0;34m\u001b[0m\u001b[0;34m\u001b[0m\u001b[0m\n",
      "\u001b[0;32m<ipython-input-51-4db7e90de471>\u001b[0m in \u001b[0;36mget_num\u001b[0;34m(line)\u001b[0m\n\u001b[1;32m      6\u001b[0m     \u001b[0mprint\u001b[0m\u001b[0;34m(\u001b[0m\u001b[0mtib_num\u001b[0m\u001b[0;34m)\u001b[0m\u001b[0;34m\u001b[0m\u001b[0;34m\u001b[0m\u001b[0m\n\u001b[1;32m      7\u001b[0m     \u001b[0mtable\u001b[0m \u001b[0;34m=\u001b[0m \u001b[0mtib_num\u001b[0m\u001b[0;34m.\u001b[0m\u001b[0mmaketrans\u001b[0m\u001b[0;34m(\u001b[0m\u001b[0;34m\"༡༢༣༤༥༦༧༨༩༠\"\u001b[0m\u001b[0;34m,\u001b[0m \u001b[0;34m\"1234567890\"\u001b[0m\u001b[0;34m,\u001b[0m \u001b[0;34m\"<r>\"\u001b[0m\u001b[0;34m)\u001b[0m\u001b[0;34m\u001b[0m\u001b[0;34m\u001b[0m\u001b[0m\n\u001b[0;32m----> 8\u001b[0;31m     \u001b[0meng_num\u001b[0m \u001b[0;34m=\u001b[0m \u001b[0mint\u001b[0m\u001b[0;34m(\u001b[0m\u001b[0mtib_num\u001b[0m\u001b[0;34m.\u001b[0m\u001b[0mtranslate\u001b[0m\u001b[0;34m(\u001b[0m\u001b[0mtable\u001b[0m\u001b[0;34m)\u001b[0m\u001b[0;34m)\u001b[0m\u001b[0;34m\u001b[0m\u001b[0;34m\u001b[0m\u001b[0m\n\u001b[0m\u001b[1;32m      9\u001b[0m     \u001b[0mprint\u001b[0m\u001b[0;34m(\u001b[0m\u001b[0meng_num\u001b[0m\u001b[0;34m)\u001b[0m\u001b[0;34m\u001b[0m\u001b[0;34m\u001b[0m\u001b[0m\n\u001b[1;32m     10\u001b[0m     \u001b[0;32mreturn\u001b[0m \u001b[0meng_num\u001b[0m\u001b[0;34m\u001b[0m\u001b[0;34m\u001b[0m\u001b[0m\n",
      "\u001b[0;31mValueError\u001b[0m: invalid literal for int() with base 10: '\\n'"
     ]
    }
   ],
   "source": [
    "man = ['\\n3-<r༤༩>', '\\n14-<r༩༨>', '<p67-493>']\n",
    "line_text = \"\"\n",
    "final_output = []\n",
    "for i, con in enumerate(man):\n",
    "    if i == 0:\n",
    "        if re.search(r\"\\n\\d+\\W<r?([༠-༩]+?)>\", con):\n",
    "            print(\"yes\")\n",
    "            num = re.search(r\"\\n\\d+\\W<r?([༠-༩]+?)>\", con)\n",
    "            line_text += (num.group(0))\n",
    "            print(line_text)\n",
    "            line_text = get_num(line_text)\n",
    "            final_output.append(line_text)\n",
    "            line_text = \"\"\n",
    "            \n",
    "        else:\n",
    "            print(\"fuck\")"
   ]
  },
  {
   "cell_type": "code",
   "execution_count": 60,
   "metadata": {},
   "outputs": [
    {
     "name": "stdout",
     "output_type": "stream",
     "text": [
      "yes\n",
      "༤༩\n"
     ]
    }
   ],
   "source": [
    "text = \"3r༤༩\"\n",
    "if re.search(r\"(\\d+?)r\", text):\n",
    "    text = re.sub(r\"(\\d+?)r\", \"\", text)\n",
    "    print(\"yes\")\n",
    "    print(text)\n",
    "else:\n",
    "    print(\"no\")"
   ]
  },
  {
   "cell_type": "code",
   "execution_count": null,
   "metadata": {},
   "outputs": [],
   "source": []
  },
  {
   "cell_type": "code",
   "execution_count": null,
   "metadata": {},
   "outputs": [],
   "source": []
  },
  {
   "cell_type": "code",
   "execution_count": null,
   "metadata": {},
   "outputs": [],
   "source": []
  },
  {
   "cell_type": "code",
   "execution_count": null,
   "metadata": {},
   "outputs": [],
   "source": []
  },
  {
   "cell_type": "code",
   "execution_count": null,
   "metadata": {},
   "outputs": [],
   "source": []
  }
 ],
 "metadata": {
  "kernelspec": {
   "display_name": "Python 3",
   "language": "python",
   "name": "python3"
  },
  "language_info": {
   "codemirror_mode": {
    "name": "ipython",
    "version": 3
   },
   "file_extension": ".py",
   "mimetype": "text/x-python",
   "name": "python",
   "nbconvert_exporter": "python",
   "pygments_lexer": "ipython3",
   "version": "3.8.5"
  }
 },
 "nbformat": 4,
 "nbformat_minor": 4
}
