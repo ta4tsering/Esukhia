{
 "cells": [
  {
   "cell_type": "code",
   "execution_count": 1,
   "metadata": {},
   "outputs": [],
   "source": [
    "import re"
   ]
  },
  {
   "cell_type": "code",
   "execution_count": 3,
   "metadata": {},
   "outputs": [],
   "source": [
    "durchen_cases = [['པ་ བསྡུར་མཆན།'],['བསྡུར་མཆན།'],['བྱེད་པ་དེ་ལ། དང་བྱེད་ བསྡུར་མཆན།'],['དང་བྱེད་ བསྡུར་མཆན།'],['བསྡུར་མཆན་']]\n",
    "durdey_riwo_mig_cases = [['བསྡུར་འབྲས་རེའུ་མིག'],['བསྡུར་འབྲས་རེའུ་མིག་ ལ་མི་བྱ'],['རེ་བ་ བསྡུར་འབྲས་རེའུ་མིག་'],['བསྡུར་འབྲས་རེའུ་མིག ། '],['བསྡུར་འབྲས་རེའུ་མིག།'],['བསྡུར་འབྲས་རེའུ་མིག་']]"
   ]
  },
  {
   "cell_type": "code",
   "execution_count": 8,
   "metadata": {},
   "outputs": [
    {
     "ename": "SyntaxError",
     "evalue": "invalid syntax (<ipython-input-8-fa7a319529c4>, line 4)",
     "output_type": "error",
     "traceback": [
      "\u001b[0;36m  File \u001b[0;32m\"<ipython-input-8-fa7a319529c4>\"\u001b[0;36m, line \u001b[0;32m4\u001b[0m\n\u001b[0;31m    if re.search(r'\\nབསྡུར་མཆན(་|།)(\\s|\\n)', durchen_cases[case_number])\u001b[0m\n\u001b[0m                                                                        ^\u001b[0m\n\u001b[0;31mSyntaxError\u001b[0m\u001b[0;31m:\u001b[0m invalid syntax\n"
     ]
    }
   ],
   "source": [
    "def perfecting_re_for_durchen_cases(durchen_cases):\n",
    "    count =0\n",
    "    for case_number in range(durchen_cases) :\n",
    "        if re.search(r'\\nབསྡུར་མཆན(་|།)(\\s|\\n)', durchen_cases[case_number])\n",
    "            print(f\"regular expression works on number {case_number} case\")\n",
    "            count += 1\n",
    "        else:\n",
    "            print(f\"regular expression doesn't work on number {case_number} case\")\n",
    "    return count "
   ]
  },
  {
   "cell_type": "code",
   "execution_count": null,
   "metadata": {},
   "outputs": [],
   "source": [
    "def perfecting_re_for_durdey_riwo_mig_cases(durdey_riwo_mig_cases):\n",
    "    count = 0\n",
    "    for case_number in range(durchen_case[]):\n",
    "        if re.search(r'\\nབསྡུར་འབྲས་རེའུ་མིག་?\\n', durdey_riwo_mig_cases)\n",
    "            print(f\"regular expression works on number {case_number} case \")\n",
    "            count += 1 \n",
    "        else:\n",
    "            print(f\"regular expression doesn't work on number {case_number} case \")\n",
    "    return count"
   ]
  },
  {
   "cell_type": "code",
   "execution_count": null,
   "metadata": {},
   "outputs": [],
   "source": [
    "count = perfecting_re_for_durchen_cases(durchen_cases[])\n",
    "print(f'number of passed test cases {count} for Durdey')\n",
    "perfecting_re_for_durdey_riwo_mig_cases(durdey_riwo_mig_cases[])\n",
    "print(f'number of passed test cases {count} for Durdey riwo mig')"
   ]
  }
 ],
 "metadata": {
  "kernelspec": {
   "display_name": "Python 3",
   "language": "python",
   "name": "python3"
  },
  "language_info": {
   "codemirror_mode": {
    "name": "ipython",
    "version": 3
   },
   "file_extension": ".py",
   "mimetype": "text/x-python",
   "name": "python",
   "nbconvert_exporter": "python",
   "pygments_lexer": "ipython3",
   "version": "3.8.5"
  }
 },
 "nbformat": 4,
 "nbformat_minor": 4
}
