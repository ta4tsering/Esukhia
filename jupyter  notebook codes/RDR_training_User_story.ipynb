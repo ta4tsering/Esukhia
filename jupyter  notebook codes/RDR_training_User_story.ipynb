{
 "cells": [
  {
   "cell_type": "markdown",
   "id": "southern-estimate",
   "metadata": {},
   "source": [
    "# User story of using pybo to extract rules and improving it from corpus"
   ]
  },
  {
   "cell_type": "code",
   "execution_count": 1,
   "id": "characteristic-tattoo",
   "metadata": {},
   "outputs": [],
   "source": [
    "import os"
   ]
  },
  {
   "cell_type": "markdown",
   "id": "motivated-export",
   "metadata": {},
   "source": [
    "# Step 1\n",
    "\n",
    "**Tashi tokenizes a text by using botok with rules available in dialect pack that has been used.**"
   ]
  },
  {
   "cell_type": "code",
   "execution_count": 10,
   "id": "important-mounting",
   "metadata": {},
   "outputs": [
    {
     "data": {
      "text/plain": [
       "0"
      ]
     },
     "execution_count": 10,
     "metadata": {},
     "output_type": "execute_result"
    }
   ],
   "source": [
    "os.system('bo tok -t=p ./user_story/sample.txt')"
   ]
  },
  {
   "cell_type": "markdown",
   "id": "looking-template",
   "metadata": {},
   "source": [
    "**The segmented text can be found in a folder called sample_tok in inputs parent directory.**\n",
    "\n",
    "**Tashi give that segmented text to Dhoundup so that he can do required correction regarding segmentation or pos tag.**\n",
    "\n",
    "# Step 2\n",
    "\n",
    "**Dhoundup does a manual correction. He tries to extract rules from corrected data using pybo command called extract-rules.**"
   ]
  },
  {
   "cell_type": "code",
   "execution_count": 16,
   "id": "continuing-belgium",
   "metadata": {},
   "outputs": [
    {
     "data": {
      "text/plain": [
       "0"
      ]
     },
     "execution_count": 16,
     "metadata": {},
     "output_type": "execute_result"
    }
   ],
   "source": [
    "os.system('bo extract-rules --type=hfr -dp=general ./user_story/seg_adjs_training')"
   ]
  },
  {
   "cell_type": "markdown",
   "id": "further-spouse",
   "metadata": {},
   "source": [
    "**The options he have send here are `--type=hfr` and `-dp=general`.**\n",
    "\n",
    "**The type option is to get rules in human friendly rules.**\n",
    "\n",
    "**The dp option is for dialact pack.**\n",
    "\n",
    "**So the output hfr rules will be saved in a directory called hfr_rules in adjusment dir of the dialact pack that he has mentioned.**"
   ]
  },
  {
   "cell_type": "markdown",
   "id": "hawaiian-amount",
   "metadata": {},
   "source": [
    "**Dhoundup imporves the hfr rules to solve more ambiguities.**\n",
    "\n",
    "**Once Dhoundup feels confidence about his hfr rules, he will convert the rules to Corpus Querry Language(CQL) by using a command called convert-hfr2cql.**\n",
    "\n",
    "**His cql rules will be saved in given dialect pack's adjustment directory's rules folder.**\n",
    "\n",
    "**He can then ask Dolma to do further testing with those rules.**"
   ]
  },
  {
   "cell_type": "code",
   "execution_count": 17,
   "id": "continuous-variation",
   "metadata": {},
   "outputs": [
    {
     "data": {
      "text/plain": [
       "0"
      ]
     },
     "execution_count": 17,
     "metadata": {},
     "output_type": "execute_result"
    }
   ],
   "source": [
    "os.system('bo convert-hfr2cql -dp=general /home/whitetiger/Documents/pybo/dialect_packs/general/adjustments/hfr_rules/seg_adjs_training_rules.tsv')"
   ]
  },
  {
   "cell_type": "markdown",
   "id": "neutral-gothic",
   "metadata": {},
   "source": [
    "# Step 3:\n",
    "\n",
    "**Dolma will recieve all the rules from Dhoundup.**\n",
    "\n",
    "**She will test the rules with ambiguous sentences whether the new rules are generating expected result or not.**\n",
    "\n",
    "**Selecting all the required rules and add them to dictionary rules directory of the dialect pack.**\n",
    "\n",
    "**Or she can go back to hfr_rules folder and twin the rules and convert them to cql like Dhondup did and continue testing till she get expected results**"
   ]
  }
 ],
 "metadata": {
  "kernelspec": {
   "display_name": "Python 3",
   "language": "python",
   "name": "python3"
  },
  "language_info": {
   "codemirror_mode": {
    "name": "ipython",
    "version": 3
   },
   "file_extension": ".py",
   "mimetype": "text/x-python",
   "name": "python",
   "nbconvert_exporter": "python",
   "pygments_lexer": "ipython3",
   "version": "3.8.5"
  }
 },
 "nbformat": 4,
 "nbformat_minor": 5
}
